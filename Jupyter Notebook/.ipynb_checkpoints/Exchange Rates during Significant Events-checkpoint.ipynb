{
 "cells": [
  {
   "cell_type": "markdown",
   "id": "e4ad1369",
   "metadata": {},
   "source": [
    "# Exchange Rates during Significant Events\n",
    "### By: Esha Sali, Prathamesh Saraf, Raman Ebrahimi Kalachayeh, Venz Burgos, Yingxiao Dai"
   ]
  },
  {
   "cell_type": "markdown",
   "id": "53a3aa94",
   "metadata": {},
   "source": [
    "### Abstract: \n",
    "Our project covers many specific events and their effect on exchange rates and the market. We attempt to analyze how major events can sway the market triggering investor panic, uncertainty, and patterns in the market. We cover major events such as Flash Crash of 2015, Brexit Era, Covid-19, General Anomalies, and the relative growth of countries with respect to the Euro."
   ]
  },
  {
   "cell_type": "markdown",
   "id": "5ea99659",
   "metadata": {},
   "source": [
    "### Helpful Datasets:\n",
    "> [US Treasury](https://fiscaldata.treasury.gov/datasets/treasury-reporting-rates-exchange/treasury-reporting-rates-of-exchange)\n",
    "\n",
    "> [Investing.com](https://www.investing.com/currencies/eur-usd-historical-data)\n",
    "\n",
    "> [Datahub (Monthly Data)](https://datahub.io/core/exchange-rates#data)\n",
    "\n",
    "> [Datahub (Daily Data)](https://datahub.io/core/exchange-rates#data)\n",
    "\n",
    "> [EUR/USD in minutes](https://www.histdata.com/download-free-forex-historical-data/?/metatrader/1-minute-bar-quotes/EURUSD)\n",
    "\n",
    "> [Kaggle (Daily EUR/USD)](https://www.kaggle.com/datasets/lsind18/euro-exchange-daily-rates-19992020/)"
   ]
  },
  {
   "cell_type": "markdown",
   "id": "365e9c3c",
   "metadata": {},
   "source": [
    "## Findings:\n",
    "\n",
    "#### Brexit Era:\n",
    "> During the Brexit Era we found that, at a macro perspective that EURO/POUND is worthy of attention. It was\n",
    "#### 2015 Flash Crash:\n",
    "> During Flash Crash we found that\n",
    "#### Covid 19:\n",
    "> During Covid-19 we found that the dollar weakened. What explains it? We found through research that Investor Panic, Shutdown, and Lower Interest Rates contributed to this. During the time of covid, in particular 2020, we found that it didn't have a lasting effect on volatility. In fact, through the data analytics we found that volatility was only drastically affected for March 2020, specifically the time when the covid lockdown was announced. In an attempt to boost economic activity and recover, interest rates were lowered. We found that interest rates have an inverse relation with strength of a currency. Lower interest rates, are unattractive to foreign investors. Hence the dollar weakening during covid era.\n",
    "#### Anomalies:\n",
    "> Some Anomalies we found were the strengthening of the EURO compared to Indian currency even when Indian GDP was increasing. Similar with Russia. In India, heavy reliance on oil, 14 billion outflow and account deficit put downward pressure on the rupee. We found that a strong economy doesn't neccessarily correlate with a strong currency, as other global economic factors affect currency strength. Similar to the rupee, Russia has high import and declining foreign trade, contributing to it weakening compared to the Euro. As well as shrinking oil and gas export the ruble declined.\n"
   ]
  },
  {
   "cell_type": "markdown",
   "id": "e10ac774",
   "metadata": {},
   "source": [
    "## Visualization and Graphs:"
   ]
  },
  {
   "cell_type": "code",
   "execution_count": null,
   "id": "cbbb6c2a",
   "metadata": {},
   "outputs": [],
   "source": []
  }
 ],
 "metadata": {
  "kernelspec": {
   "display_name": "Python 3 (ipykernel)",
   "language": "python",
   "name": "python3"
  },
  "language_info": {
   "codemirror_mode": {
    "name": "ipython",
    "version": 3
   },
   "file_extension": ".py",
   "mimetype": "text/x-python",
   "name": "python",
   "nbconvert_exporter": "python",
   "pygments_lexer": "ipython3",
   "version": "3.9.13"
  }
 },
 "nbformat": 4,
 "nbformat_minor": 5
}
